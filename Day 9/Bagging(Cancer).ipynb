{
 "cells": [
  {
   "cell_type": "code",
   "execution_count": 11,
   "id": "70705298-01ed-4d5d-a467-662206c444d6",
   "metadata": {},
   "outputs": [],
   "source": [
    "import numpy as np\n",
    "import pandas as pd\n",
    "import matplotlib.pyplot as plt\n",
    "from sklearn.svm import SVC\n",
    "from sklearn.metrics import roc_auc_score,accuracy_score,log_loss\n",
    "from sklearn.model_selection import train_test_split,StratifiedKFold , GridSearchCV\n",
    "from sklearn.tree import DecisionTreeClassifier,plot_tree\n",
    "from sklearn.linear_model import LogisticRegression\n",
    "from sklearn.ensemble import BaggingClassifier"
   ]
  },
  {
   "cell_type": "code",
   "execution_count": 12,
   "id": "489e37a9-365c-40f1-a409-630088af5f07",
   "metadata": {},
   "outputs": [],
   "source": [
    "cancer = pd.read_csv('BreastCancer.csv').set_index('Code')"
   ]
  },
  {
   "cell_type": "code",
   "execution_count": 13,
   "id": "2837d58f-e91e-44ba-9b25-1996ebf00d5f",
   "metadata": {},
   "outputs": [],
   "source": [
    "X = cancer.drop('Class',axis=1)\n",
    "y = cancer['Class']"
   ]
  },
  {
   "cell_type": "code",
   "execution_count": 14,
   "id": "7a0a5ba7-f5c5-43e4-9a64-c17afd1ff601",
   "metadata": {},
   "outputs": [],
   "source": [
    "X_train , X_test , y_train , y_test = train_test_split(X,y,random_state=24,test_size=0.3,stratify=y)"
   ]
  },
  {
   "cell_type": "code",
   "execution_count": 15,
   "id": "c3338dfc-312b-4d25-b1ed-2c6347fa8fdf",
   "metadata": {},
   "outputs": [
    {
     "name": "stdout",
     "output_type": "stream",
     "text": [
      "0.9714285714285714\n"
     ]
    }
   ],
   "source": [
    "lr = LogisticRegression(random_state=24)\n",
    "bagg = BaggingClassifier(estimator=lr, random_state=24)\n",
    "bagg.fit(X_train, y_train)\n",
    "y_pred = bagg.predict(X_test)\n",
    "print(accuracy_score(y_test, y_pred))"
   ]
  },
  {
   "cell_type": "code",
   "execution_count": 16,
   "id": "61341395-777f-45a9-9231-886442bbbc87",
   "metadata": {},
   "outputs": [
    {
     "name": "stdout",
     "output_type": "stream",
     "text": [
      "0.9714285714285714\n"
     ]
    }
   ],
   "source": [
    "svm = SVC(probability=True, random_state=24)\n",
    "bagg = BaggingClassifier(estimator=svm, random_state=24)\n",
    "bagg.fit(X_train, y_train)\n",
    "y_pred = bagg.predict(X_test)\n",
    "print(accuracy_score(y_test, y_pred))"
   ]
  },
  {
   "cell_type": "code",
   "execution_count": null,
   "id": "f6ca4c9e-1ba9-40ac-b1db-6d7713dd75ff",
   "metadata": {},
   "outputs": [],
   "source": []
  }
 ],
 "metadata": {
  "kernelspec": {
   "display_name": "Python 3 (ipykernel)",
   "language": "python",
   "name": "python3"
  },
  "language_info": {
   "codemirror_mode": {
    "name": "ipython",
    "version": 3
   },
   "file_extension": ".py",
   "mimetype": "text/x-python",
   "name": "python",
   "nbconvert_exporter": "python",
   "pygments_lexer": "ipython3",
   "version": "3.12.4"
  }
 },
 "nbformat": 4,
 "nbformat_minor": 5
}
