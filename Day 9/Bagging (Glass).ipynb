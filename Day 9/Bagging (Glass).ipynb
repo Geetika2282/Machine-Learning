{
 "cells": [
  {
   "cell_type": "code",
   "execution_count": 17,
   "id": "98d218b1-a287-4d6f-9397-0f6844180b52",
   "metadata": {},
   "outputs": [],
   "source": [
    "import numpy as np\n",
    "import pandas as pd\n",
    "import matplotlib.pyplot as plt\n",
    "from sklearn.svm import SVC\n",
    "from sklearn.metrics import roc_auc_score,accuracy_score,log_loss\n",
    "from sklearn.model_selection import train_test_split,StratifiedKFold , GridSearchCV\n",
    "from sklearn.tree import DecisionTreeClassifier,plot_tree\n",
    "from sklearn.linear_model import LogisticRegression\n",
    "from sklearn.ensemble import BaggingClassifier\n",
    "import warnings\n",
    "# warnings.filterwarnings('ignore')"
   ]
  },
  {
   "cell_type": "code",
   "execution_count": 2,
   "id": "22e0409e-716d-48f8-82e4-4f6459a9273a",
   "metadata": {},
   "outputs": [],
   "source": [
    "glass = pd.read_csv('Glass.csv')"
   ]
  },
  {
   "cell_type": "code",
   "execution_count": 3,
   "id": "55b45a02-bf46-4f93-b61f-62771f7020ea",
   "metadata": {},
   "outputs": [],
   "source": [
    "X = glass.drop('Type',axis=1)\n",
    "y = glass['Type']"
   ]
  },
  {
   "cell_type": "code",
   "execution_count": 4,
   "id": "bd0920c1-e6ec-4a6e-aefd-0993fc5d26d4",
   "metadata": {},
   "outputs": [],
   "source": [
    "X_train , X_test , y_train , y_test = train_test_split(X,y,random_state=24,test_size=0.3,stratify=y)"
   ]
  },
  {
   "cell_type": "code",
   "execution_count": 9,
   "id": "b5d76891-7e09-4c14-a1be-8e3558a66a7d",
   "metadata": {},
   "outputs": [
    {
     "name": "stdout",
     "output_type": "stream",
     "text": [
      "0.6461538461538462\n"
     ]
    }
   ],
   "source": [
    "lr = LogisticRegression(random_state=24)\n",
    "bagg = BaggingClassifier(estimator=lr, random_state=24)\n",
    "bagg.fit(X_train, y_train)\n",
    "y_pred = bagg.predict(X_test)\n",
    "print(accuracy_score(y_test, y_pred))"
   ]
  },
  {
   "cell_type": "code",
   "execution_count": 10,
   "id": "54e006ed-d050-44b9-bc85-b28407b18b1a",
   "metadata": {},
   "outputs": [
    {
     "name": "stdout",
     "output_type": "stream",
     "text": [
      "0.6153846153846154\n"
     ]
    }
   ],
   "source": [
    "svm = SVC(probability=True, random_state=24)\n",
    "bagg = BaggingClassifier(estimator=svm, random_state=24)\n",
    "bagg.fit(X_train, y_train)\n",
    "y_pred = bagg.predict(X_test)\n",
    "print(accuracy_score(y_test, y_pred))"
   ]
  },
  {
   "cell_type": "code",
   "execution_count": 14,
   "id": "b4859205-0ce3-43ad-abfa-dc30c3c89196",
   "metadata": {},
   "outputs": [
    {
     "name": "stdout",
     "output_type": "stream",
     "text": [
      "0.6615384615384615\n"
     ]
    }
   ],
   "source": [
    "dtc = DecisionTreeClassifier(random_state=24)\n",
    "bagg = BaggingClassifier(estimator=dtc, random_state=24)\n",
    "bagg.fit(X_train, y_train)\n",
    "y_pred = bagg.predict(X_test)\n",
    "print(accuracy_score(y_test, y_pred))"
   ]
  },
  {
   "cell_type": "markdown",
   "id": "9a07714d-de05-4105-b500-aea554b9a201",
   "metadata": {},
   "source": [
    "### Grid Search CV"
   ]
  },
  {
   "cell_type": "code",
   "execution_count": 15,
   "id": "1ab97974-12c3-449f-bfca-419bac27efb6",
   "metadata": {},
   "outputs": [
    {
     "data": {
      "text/plain": [
       "{'bootstrap': True,\n",
       " 'bootstrap_features': False,\n",
       " 'estimator': None,\n",
       " 'max_features': 1.0,\n",
       " 'max_samples': 1.0,\n",
       " 'n_estimators': 10,\n",
       " 'n_jobs': None,\n",
       " 'oob_score': False,\n",
       " 'random_state': 24,\n",
       " 'verbose': 0,\n",
       " 'warm_start': False}"
      ]
     },
     "execution_count": 15,
     "metadata": {},
     "output_type": "execute_result"
    }
   ],
   "source": [
    "bagg = BaggingClassifier(random_state=24)\n",
    "bagg.get_params()"
   ]
  },
  {
   "cell_type": "code",
   "execution_count": 19,
   "id": "9a41edf7-c3eb-475a-8163-5ab5c30adfaf",
   "metadata": {},
   "outputs": [],
   "source": [
    "kfold = StratifiedKFold(n_splits=5, shuffle=True, random_state=24)\n",
    "params = {'estimator':[lr, svm, dtc], 'n_estimators':[10, 50, 100]}\n",
    "gcv = GridSearchCV(bagg, param_grid=params, cv=kfold, scoring='neg_log_loss')\n",
    "with warnings.catch_warnings():\n",
    "    warnings.simplefilter(\"ignore\")\n",
    "    gcv.fit(X, y)"
   ]
  },
  {
   "cell_type": "code",
   "execution_count": 20,
   "id": "85ca539b-fe48-4e74-9540-6bd13285f6fd",
   "metadata": {},
   "outputs": [
    {
     "data": {
      "text/plain": [
       "-0.9555422739936867"
      ]
     },
     "execution_count": 20,
     "metadata": {},
     "output_type": "execute_result"
    }
   ],
   "source": [
    "gcv.best_score_"
   ]
  },
  {
   "cell_type": "code",
   "execution_count": 22,
   "id": "e555e7f8-31ea-4f67-9559-aee0053bca48",
   "metadata": {},
   "outputs": [
    {
     "data": {
      "text/plain": [
       "{'estimator': LogisticRegression(random_state=24), 'n_estimators': 50}"
      ]
     },
     "execution_count": 22,
     "metadata": {},
     "output_type": "execute_result"
    }
   ],
   "source": [
    "gcv.best_params_"
   ]
  },
  {
   "cell_type": "code",
   "execution_count": null,
   "id": "aa3bf10f-6827-47cd-a603-714744297f2c",
   "metadata": {},
   "outputs": [],
   "source": []
  }
 ],
 "metadata": {
  "kernelspec": {
   "display_name": "Python 3 (ipykernel)",
   "language": "python",
   "name": "python3"
  },
  "language_info": {
   "codemirror_mode": {
    "name": "ipython",
    "version": 3
   },
   "file_extension": ".py",
   "mimetype": "text/x-python",
   "name": "python",
   "nbconvert_exporter": "python",
   "pygments_lexer": "ipython3",
   "version": "3.12.4"
  }
 },
 "nbformat": 4,
 "nbformat_minor": 5
}
