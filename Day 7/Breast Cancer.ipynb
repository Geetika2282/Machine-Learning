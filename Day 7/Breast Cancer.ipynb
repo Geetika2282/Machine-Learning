{
 "cells": [
  {
   "cell_type": "code",
   "execution_count": 1,
   "id": "35ee3290-c11d-4e98-abf2-2e1652787416",
   "metadata": {},
   "outputs": [],
   "source": [
    "import pandas as pd\n",
    "import numpy as np\n",
    "from sklearn.decomposition import PCA\n",
    "import sklearn\n",
    "from sklearn.decomposition import PCA\n",
    "from sklearn.preprocessing import StandardScaler\n",
    "import matplotlib.pyplot as plt\n",
    "import pandas as pd\n",
    "\n",
    "import numpy as np\n",
    "from sklearn.compose import make_column_transformer \n",
    "from sklearn.compose import make_column_selector\n",
    "from sklearn.preprocessing import OneHotEncoder\n",
    "from sklearn.model_selection import train_test_split\n",
    "from sklearn.metrics import classification_report, roc_auc_score,accuracy_score\n",
    "import matplotlib.pyplot as plt\n",
    "from sklearn.model_selection import StratifiedKFold, GridSearchCV\n",
    "from sklearn.impute import SimpleImputer\n",
    "\n",
    "from sklearn.naive_bayes import BernoulliNB\n",
    "from sklearn import datasets, linear_model, metrics\n",
    "\n",
    "from sklearn.preprocessing import MinMaxScaler, StandardScaler\n",
    "from sklearn.neighbors import KNeighborsClassifier,KNeighborsRegressor\n",
    "import warnings\n",
    "warnings.filterwarnings('ignore')"
   ]
  },
  {
   "cell_type": "code",
   "execution_count": 2,
   "id": "8c503948-5211-49e6-8e99-63b73b6029f6",
   "metadata": {},
   "outputs": [],
   "source": [
    "cancer = pd.read_csv('BreastCancer.csv',index_col=0)"
   ]
  },
  {
   "cell_type": "code",
   "execution_count": 3,
   "id": "88a06b24-0dde-4ccd-836a-318cdcee6051",
   "metadata": {},
   "outputs": [
    {
     "data": {
      "text/html": [
       "<div>\n",
       "<style scoped>\n",
       "    .dataframe tbody tr th:only-of-type {\n",
       "        vertical-align: middle;\n",
       "    }\n",
       "\n",
       "    .dataframe tbody tr th {\n",
       "        vertical-align: top;\n",
       "    }\n",
       "\n",
       "    .dataframe thead th {\n",
       "        text-align: right;\n",
       "    }\n",
       "</style>\n",
       "<table border=\"1\" class=\"dataframe\">\n",
       "  <thead>\n",
       "    <tr style=\"text-align: right;\">\n",
       "      <th></th>\n",
       "      <th>Clump</th>\n",
       "      <th>UniCell_Size</th>\n",
       "      <th>Uni_CellShape</th>\n",
       "      <th>MargAdh</th>\n",
       "      <th>SEpith</th>\n",
       "      <th>BareN</th>\n",
       "      <th>BChromatin</th>\n",
       "      <th>NoemN</th>\n",
       "      <th>Mitoses</th>\n",
       "      <th>Class</th>\n",
       "    </tr>\n",
       "    <tr>\n",
       "      <th>Code</th>\n",
       "      <th></th>\n",
       "      <th></th>\n",
       "      <th></th>\n",
       "      <th></th>\n",
       "      <th></th>\n",
       "      <th></th>\n",
       "      <th></th>\n",
       "      <th></th>\n",
       "      <th></th>\n",
       "      <th></th>\n",
       "    </tr>\n",
       "  </thead>\n",
       "  <tbody>\n",
       "    <tr>\n",
       "      <th>61634</th>\n",
       "      <td>5</td>\n",
       "      <td>4</td>\n",
       "      <td>3</td>\n",
       "      <td>1</td>\n",
       "      <td>2</td>\n",
       "      <td>2</td>\n",
       "      <td>2</td>\n",
       "      <td>3</td>\n",
       "      <td>1</td>\n",
       "      <td>Benign</td>\n",
       "    </tr>\n",
       "    <tr>\n",
       "      <th>63375</th>\n",
       "      <td>9</td>\n",
       "      <td>1</td>\n",
       "      <td>2</td>\n",
       "      <td>6</td>\n",
       "      <td>4</td>\n",
       "      <td>10</td>\n",
       "      <td>7</td>\n",
       "      <td>7</td>\n",
       "      <td>2</td>\n",
       "      <td>Malignant</td>\n",
       "    </tr>\n",
       "    <tr>\n",
       "      <th>76389</th>\n",
       "      <td>10</td>\n",
       "      <td>4</td>\n",
       "      <td>7</td>\n",
       "      <td>2</td>\n",
       "      <td>2</td>\n",
       "      <td>8</td>\n",
       "      <td>6</td>\n",
       "      <td>1</td>\n",
       "      <td>1</td>\n",
       "      <td>Malignant</td>\n",
       "    </tr>\n",
       "    <tr>\n",
       "      <th>95719</th>\n",
       "      <td>6</td>\n",
       "      <td>10</td>\n",
       "      <td>10</td>\n",
       "      <td>10</td>\n",
       "      <td>8</td>\n",
       "      <td>10</td>\n",
       "      <td>7</td>\n",
       "      <td>10</td>\n",
       "      <td>7</td>\n",
       "      <td>Malignant</td>\n",
       "    </tr>\n",
       "    <tr>\n",
       "      <th>128059</th>\n",
       "      <td>1</td>\n",
       "      <td>1</td>\n",
       "      <td>1</td>\n",
       "      <td>1</td>\n",
       "      <td>2</td>\n",
       "      <td>5</td>\n",
       "      <td>5</td>\n",
       "      <td>1</td>\n",
       "      <td>1</td>\n",
       "      <td>Benign</td>\n",
       "    </tr>\n",
       "  </tbody>\n",
       "</table>\n",
       "</div>"
      ],
      "text/plain": [
       "        Clump  UniCell_Size  Uni_CellShape  MargAdh  SEpith  BareN  \\\n",
       "Code                                                                 \n",
       "61634       5             4              3        1       2      2   \n",
       "63375       9             1              2        6       4     10   \n",
       "76389      10             4              7        2       2      8   \n",
       "95719       6            10             10       10       8     10   \n",
       "128059      1             1              1        1       2      5   \n",
       "\n",
       "        BChromatin  NoemN  Mitoses      Class  \n",
       "Code                                           \n",
       "61634            2      3        1     Benign  \n",
       "63375            7      7        2  Malignant  \n",
       "76389            6      1        1  Malignant  \n",
       "95719            7     10        7  Malignant  \n",
       "128059           5      1        1     Benign  "
      ]
     },
     "execution_count": 3,
     "metadata": {},
     "output_type": "execute_result"
    }
   ],
   "source": [
    "cancer.head()"
   ]
  },
  {
   "cell_type": "code",
   "execution_count": 4,
   "id": "a818e6ff-79fb-44d0-b091-6e2c615a75cf",
   "metadata": {},
   "outputs": [],
   "source": [
    "X = cancer.drop('Class',axis=1)\n",
    "y = cancer['Class']"
   ]
  },
  {
   "cell_type": "code",
   "execution_count": 5,
   "id": "0287e434-f329-475e-95ec-8b675e170b55",
   "metadata": {},
   "outputs": [
    {
     "data": {
      "text/plain": [
       "array([65.45437483,  8.62625123,  5.98724547,  5.13612665,  4.21920122,\n",
       "        3.39206535,  3.28441735,  2.91485025,  0.98546764])"
      ]
     },
     "execution_count": 5,
     "metadata": {},
     "output_type": "execute_result"
    }
   ],
   "source": [
    "scaler = StandardScaler().set_output(transform='pandas')\n",
    "X_scl = scaler.fit_transform(X)\n",
    "prcomp = PCA().set_output(transform='pandas')\n",
    "X_pca= prcomp.fit_transform(X_scl)\n",
    "prcomp.explained_variance_ratio_*100"
   ]
  },
  {
   "cell_type": "code",
   "execution_count": 6,
   "id": "1c6d0dd6-358c-43e3-88e1-2ded8b2f11ca",
   "metadata": {},
   "outputs": [
    {
     "data": {
      "text/plain": [
       "Index(['Clump', 'UniCell_Size', 'Uni_CellShape', 'MargAdh', 'SEpith', 'BareN',\n",
       "       'BChromatin', 'NoemN', 'Mitoses'],\n",
       "      dtype='object')"
      ]
     },
     "execution_count": 6,
     "metadata": {},
     "output_type": "execute_result"
    }
   ],
   "source": [
    "X.columns"
   ]
  },
  {
   "cell_type": "code",
   "execution_count": 7,
   "id": "6c05687e-3d24-426b-b8df-5c5a6a2d48f6",
   "metadata": {},
   "outputs": [],
   "source": [
    "import seaborn as sns\n",
    "import matplotlib.pyplot as plt"
   ]
  },
  {
   "cell_type": "code",
   "execution_count": 8,
   "id": "83b9aea0-d5fa-4f65-b486-4ca253be047d",
   "metadata": {},
   "outputs": [
    {
     "data": {
      "text/plain": [
       "<Axes: xlabel='Clump', ylabel='SEpith'>"
      ]
     },
     "execution_count": 8,
     "metadata": {},
     "output_type": "execute_result"
    },
    {
     "data": {
      "image/png": "[encoded data removed]",
      "text/plain": [
       "<Figure size 640x480 with 1 Axes>"
      ]
     },
     "metadata": {},
     "output_type": "display_data"
    }
   ],
   "source": [
    "sns.scatterplot(x='Clump',y = 'SEpith',data=cancer,hue='Class')"
   ]
  },
  {
   "cell_type": "code",
   "execution_count": 9,
   "id": "527f3cdf-a52c-43b0-8d4b-a5a871f7ab50",
   "metadata": {},
   "outputs": [
    {
     "data": {
      "image/png": "[encoded data removed]",
      "text/plain": [
       "<Figure size 640x480 with 1 Axes>"
      ]
     },
     "metadata": {},
     "output_type": "display_data"
    }
   ],
   "source": [
    "df_pca = X_pca.copy()\n",
    "df_pca['Class'] = cancer['Class']\n",
    "sns.scatterplot(x='pca0',y='pca1',data=df_pca, hue='Class')\n",
    "plt.show()"
   ]
  },
  {
   "cell_type": "markdown",
   "id": "27b1e8f9-a71d-4928-875e-fd390826389b",
   "metadata": {},
   "source": [
    "#### Usage with **Supervised Learning** "
   ]
  },
  {
   "cell_type": "code",
   "execution_count": 10,
   "id": "556efcf2-944b-408c-b1a9-3bd4293c3d32",
   "metadata": {},
   "outputs": [],
   "source": [
    "X = cancer.drop('Class',axis=1)\n",
    "y = cancer['Class']"
   ]
  },
  {
   "cell_type": "code",
   "execution_count": 11,
   "id": "a755be28-c9ba-486d-8dc0-588d7f8533e1",
   "metadata": {},
   "outputs": [],
   "source": [
    "X_train , X_test , y_train , y_test = train_test_split(X,y,random_state=24,test_size=0.3,stratify=y)"
   ]
  },
  {
   "cell_type": "code",
   "execution_count": 12,
   "id": "336bbe60-4110-41fc-a29d-5848c477cf27",
   "metadata": {},
   "outputs": [
    {
     "name": "stdout",
     "output_type": "stream",
     "text": [
      "0.9761904761904762\n"
     ]
    }
   ],
   "source": [
    "from sklearn.linear_model import LogisticRegression\n",
    "from sklearn.pipeline import Pipeline\n",
    "from sklearn.metrics import accuracy_score\n",
    "lr = LogisticRegression(random_state=24)\n",
    "prcomp = PCA(n_components=5).set_output(transform='pandas')  # here if we specify n_components = 5 we dont need to specify iloc as in futher examples\n",
    "pipe_pca = Pipeline([('SCL',scaler),('PCA',prcomp)])\n",
    "X_trn_pca = pipe_pca.fit_transform(X_train)\n",
    "lr.fit(X_trn_pca,y_train)\n",
    "X_tst_pca = pipe_pca.transform(X_test)\n",
    "y_pred = lr.predict(X_tst_pca)\n",
    "print(accuracy_score(y_test,y_pred))"
   ]
  },
  {
   "cell_type": "code",
   "execution_count": 13,
   "id": "17369cb5-3419-408a-aca7-6e0192f6ae4c",
   "metadata": {},
   "outputs": [
    {
     "name": "stdout",
     "output_type": "stream",
     "text": [
      "0.9761904761904762\n"
     ]
    }
   ],
   "source": [
    "lr = LogisticRegression(random_state=24)\n",
    "pipe_pca = Pipeline([('SCL',scaler),('PCA',prcomp)])\n",
    "X_trn_pca = pipe_pca.fit_transform(X_train)\n",
    "lr.fit(X_trn_pca.iloc[:,:5],y_train)\n",
    "X_tst_pca = pipe_pca.transform(X_test)\n",
    "y_pred = lr.predict(X_tst_pca.iloc[:,:5])\n",
    "print(accuracy_score(y_test,y_pred))"
   ]
  },
  {
   "cell_type": "code",
   "execution_count": 14,
   "id": "9be0217d-8c2f-435b-bc98-8fcbbc2b6e35",
   "metadata": {},
   "outputs": [
    {
     "name": "stdout",
     "output_type": "stream",
     "text": [
      "0.9714285714285714\n"
     ]
    }
   ],
   "source": [
    "lr = LogisticRegression(random_state=24)\n",
    "pipe_pca = Pipeline([('SCL',scaler),('PCA',prcomp)])\n",
    "X_trn_pca = pipe_pca.fit_transform(X_train)\n",
    "lr.fit(X_trn_pca.iloc[:,:4],y_train)\n",
    "X_tst_pca = pipe_pca.transform(X_test)\n",
    "y_pred = lr.predict(X_tst_pca.iloc[:,:4])\n",
    "print(accuracy_score(y_test,y_pred))"
   ]
  },
  {
   "cell_type": "code",
   "execution_count": 15,
   "id": "f8a0b038-3120-475b-b8f5-d4e2c35e2b1c",
   "metadata": {},
   "outputs": [
    {
     "name": "stdout",
     "output_type": "stream",
     "text": [
      "0.9619047619047619\n"
     ]
    }
   ],
   "source": [
    "lr = LogisticRegression(random_state=24)\n",
    "pipe_pca = Pipeline([('SCL',scaler),('PCA',prcomp)])\n",
    "X_trn_pca = pipe_pca.fit_transform(X_train)\n",
    "lr.fit(X_trn_pca.iloc[:,:3],y_train)\n",
    "X_tst_pca = pipe_pca.transform(X_test)\n",
    "y_pred = lr.predict(X_tst_pca.iloc[:,:3])\n",
    "print(accuracy_score(y_test,y_pred))"
   ]
  },
  {
   "cell_type": "code",
   "execution_count": 16,
   "id": "8b4941c6-5953-49a6-a205-b595a283f840",
   "metadata": {},
   "outputs": [
    {
     "name": "stdout",
     "output_type": "stream",
     "text": [
      "0.9666666666666667\n"
     ]
    }
   ],
   "source": [
    "lr = LogisticRegression(random_state=24)\n",
    "pipe_pca = Pipeline([('SCL',scaler),('PCA',prcomp)])\n",
    "X_trn_pca = pipe_pca.fit_transform(X_train)\n",
    "lr.fit(X_trn_pca.iloc[:,:2],y_train)\n",
    "X_tst_pca = pipe_pca.transform(X_test)\n",
    "y_pred = lr.predict(X_tst_pca.iloc[:,:2])\n",
    "print(accuracy_score(y_test,y_pred))"
   ]
  },
  {
   "cell_type": "code",
   "execution_count": 17,
   "id": "19b2af8b-aca8-40b7-863a-9df981e4236b",
   "metadata": {},
   "outputs": [
    {
     "name": "stdout",
     "output_type": "stream",
     "text": [
      "0.9714285714285714\n"
     ]
    }
   ],
   "source": [
    "lr = LogisticRegression(random_state=24)\n",
    "pipe_pca = Pipeline([('SCL',scaler),('PCA',prcomp)])\n",
    "X_trn_pca = pipe_pca.fit_transform(X_train)\n",
    "lr.fit(X_trn_pca.iloc[:,:1],y_train)\n",
    "X_tst_pca = pipe_pca.transform(X_test)\n",
    "y_pred = lr.predict(X_tst_pca.iloc[:,:1])\n",
    "print(accuracy_score(y_test,y_pred))"
   ]
  },
  {
   "cell_type": "code",
   "execution_count": 20,
   "id": "1d4bc6f8-e884-44c4-b96b-55767a4d7a60",
   "metadata": {},
   "outputs": [],
   "source": [
    "from sklearn.model_selection import StratifiedKFold\n",
    "from sklearn.model_selection import GridSearchCV"
   ]
  },
  {
   "cell_type": "markdown",
   "id": "7a82e782-32ee-43e0-b975-1b8ed26830b9",
   "metadata": {},
   "source": [
    "## Linear Discriminant Transfromation"
   ]
  },
  {
   "cell_type": "code",
   "execution_count": 30,
   "id": "8feabe40-5cbd-4f02-aea3-6dd2a7590c98",
   "metadata": {},
   "outputs": [],
   "source": [
    "from sklearn.discriminant_analysis import LinearDiscriminantAnalysis\n",
    "from sklearn.metrics import roc_auc_score"
   ]
  },
  {
   "cell_type": "code",
   "execution_count": 25,
   "id": "8ab28d35-e117-46a7-bfe0-6660d381656e",
   "metadata": {},
   "outputs": [],
   "source": [
    "lda  = LinearDiscriminantAnalysis()\n",
    "pipe_lda = Pipeline([('LDA',lda),('LR',lr)])"
   ]
  },
  {
   "cell_type": "code",
   "execution_count": 29,
   "id": "e0dc15d8-b40e-4621-b90f-aa9d2987553f",
   "metadata": {},
   "outputs": [
    {
     "name": "stdout",
     "output_type": "stream",
     "text": [
      "0.9904761904761905\n"
     ]
    }
   ],
   "source": [
    "X_train , X_test , y_train , y_test = train_test_split(X,y,random_state=24,test_size=0.3)\n",
    "pipe_lda.fit(X_train,y_train)\n",
    "y_pred = pipe_lda.predict(X_test)\n",
    "print(accuracy_score(y_test,y_pred))"
   ]
  },
  {
   "cell_type": "code",
   "execution_count": 31,
   "id": "cc38881a-8bed-4cfa-9dc3-4f7d5b54a3ad",
   "metadata": {},
   "outputs": [
    {
     "name": "stdout",
     "output_type": "stream",
     "text": [
      "0.9996000399960003\n"
     ]
    }
   ],
   "source": [
    "y_pred_prob = pipe_lda.predict_proba(X_test)[:,1]\n",
    "print(roc_auc_score(y_test,y_pred_prob))"
   ]
  },
  {
   "cell_type": "markdown",
   "id": "f0a3c8da-6a9a-4d78-b65a-d47272fe0aad",
   "metadata": {},
   "source": [
    "### kfold"
   ]
  },
  {
   "cell_type": "code",
   "execution_count": null,
   "id": "1e355619-d802-4290-9dcb-bcea328ba9ab",
   "metadata": {},
   "outputs": [],
   "source": []
  }
 ],
 "metadata": {
  "kernelspec": {
   "display_name": "Python 3 (ipykernel)",
   "language": "python",
   "name": "python3"
  },
  "language_info": {
   "codemirror_mode": {
    "name": "ipython",
    "version": 3
   },
   "file_extension": ".py",
   "mimetype": "text/x-python",
   "name": "python",
   "nbconvert_exporter": "python",
   "pygments_lexer": "ipython3",
   "version": "3.12.4"
  }
 },
 "nbformat": 4,
 "nbformat_minor": 5
}
