{
 "cells": [
  {
   "cell_type": "code",
   "execution_count": 13,
   "id": "91316834-46c8-47f3-a48c-221da37335fd",
   "metadata": {},
   "outputs": [],
   "source": [
    "from ucimlrepo import fetch_ucirepo \n",
    "import pandas as pd\n",
    "import numpy as np\n",
    "from sklearn.linear_model import LinearRegression , Lasso\n",
    "from sklearn.model_selection import train_test_split\n",
    "from sklearn.preprocessing import StandardScaler,MinMaxScaler,PolynomialFeatures\n",
    "from sklearn.metrics import r2_score, mean_squared_error\n",
    "from sklearn.pipeline import Pipeline"
   ]
  },
  {
   "cell_type": "code",
   "execution_count": 14,
   "id": "133f9228-34b5-4fcf-95f1-50cf55319dc2",
   "metadata": {},
   "outputs": [],
   "source": [
    "# fetch dataset \n",
    "concrete_compressive_strength = fetch_ucirepo(id=165) "
   ]
  },
  {
   "cell_type": "code",
   "execution_count": 15,
   "id": "f71ebdd5-e052-41fb-b446-d9c358bd2d59",
   "metadata": {},
   "outputs": [],
   "source": [
    "# data (as pandas dataframes) \n",
    "X = concrete_compressive_strength.data.features \n",
    "y = concrete_compressive_strength.data.targets "
   ]
  },
  {
   "cell_type": "code",
   "execution_count": 16,
   "id": "b43609af-3dc1-4992-bcbf-5d9e7c14f735",
   "metadata": {},
   "outputs": [
    {
     "data": {
      "text/plain": [
       "0.576333587787164"
      ]
     },
     "execution_count": 16,
     "metadata": {},
     "output_type": "execute_result"
    }
   ],
   "source": [
    "X_train , X_test , y_train , y_test = train_test_split(X,y,random_state=24,test_size=0.3)\n",
    "lasso = Lasso()\n",
    "lasso.fit(X_train,y_train)\n",
    "y_pred = lasso.predict(X_test)\n",
    "r2_score(y_test,y_pred)"
   ]
  },
  {
   "cell_type": "markdown",
   "id": "9ddcb5fb-e124-40ee-a628-cca5cd418fe3",
   "metadata": {},
   "source": [
    "#### Hyper - Parameter Optimization"
   ]
  },
  {
   "cell_type": "code",
   "execution_count": 17,
   "id": "a825505f-3b3c-401c-b401-9f0381af3abf",
   "metadata": {},
   "outputs": [
    {
     "name": "stdout",
     "output_type": "stream",
     "text": [
      "[0.5771752162488388, 0.5767887675592975, 0.5762767463931009, 0.5756396636831074, 0.574877359379247, 0.5739906651543902, 0.572979464363941, 0.5721009707960271, 0.5722614778993542, 0.5724099561568741, 0.572544735498197, 0.5726666359648799, 0.5727764086956115, 0.5728731096945463, 0.5729565781568045, 0.5730274603207464, 0.573085805075227, 0.5731315172304163, 0.5731560475699367, 0.5731618042353835]\n",
      "0\n",
      "Best alpha:  0.0001\n",
      "Best Score 0.5771752162488388\n"
     ]
    }
   ],
   "source": [
    "alphas = np.linspace(0.0001,10,20)\n",
    "scores = []\n",
    "for a in alphas:\n",
    "    lasso = Lasso(alpha=a)\n",
    "    lasso.fit(X_train,y_train)\n",
    "    y_pred = lasso.predict(X_test)\n",
    "    scores.append(r2_score(y_test,y_pred))\n",
    "print(scores)\n",
    "np.max(scores)\n",
    "i_max = np.argmax(scores)\n",
    "print(i_max)\n",
    "print(\"Best alpha: \",alphas[i_max])\n",
    "print(\"Best Score\",scores[i_max])"
   ]
  },
  {
   "cell_type": "code",
   "execution_count": null,
   "id": "360eef1e-ff35-4055-a17d-5c8a92e6ca29",
   "metadata": {},
   "outputs": [],
   "source": []
  }
 ],
 "metadata": {
  "kernelspec": {
   "display_name": "Python 3 (ipykernel)",
   "language": "python",
   "name": "python3"
  },
  "language_info": {
   "codemirror_mode": {
    "name": "ipython",
    "version": 3
   },
   "file_extension": ".py",
   "mimetype": "text/x-python",
   "name": "python",
   "nbconvert_exporter": "python",
   "pygments_lexer": "ipython3",
   "version": "3.12.4"
  }
 },
 "nbformat": 4,
 "nbformat_minor": 5
}
