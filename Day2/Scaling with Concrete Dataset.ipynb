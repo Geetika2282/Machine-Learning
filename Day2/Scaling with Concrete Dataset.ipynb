{
 "cells": [
  {
   "cell_type": "code",
   "execution_count": 18,
   "id": "e0bf8441-615a-48a5-8092-aa532f421502",
   "metadata": {},
   "outputs": [],
   "source": [
    "from ucimlrepo import fetch_ucirepo \n",
    "import pandas as pd\n",
    "import numpy as np\n",
    "from sklearn.linear_model import LinearRegression\n",
    "from sklearn.model_selection import train_test_split\n",
    "from sklearn.preprocessing import StandardScaler,MinMaxScaler\n",
    "from sklearn.preprocessing import PolynomialFeatures\n",
    "from sklearn.metrics import r2_score, mean_squared_error\n",
    "from sklearn.pipeline import Pipeline"
   ]
  },
  {
   "cell_type": "code",
   "execution_count": 19,
   "id": "1d1671cc-9aaf-4daa-86ec-6a4b63030551",
   "metadata": {},
   "outputs": [],
   "source": [
    "# fetch dataset \n",
    "concrete_compressive_strength = fetch_ucirepo(id=165) "
   ]
  },
  {
   "cell_type": "markdown",
   "id": "23cde141-7ae8-4472-b08d-de86605ded00",
   "metadata": {},
   "source": [
    "### Without using Scaling"
   ]
  },
  {
   "cell_type": "code",
   "execution_count": 20,
   "id": "3ca7fce7-e5f0-4565-9a7c-ee6819b093cd",
   "metadata": {},
   "outputs": [],
   "source": [
    "# data (as pandas dataframes) \n",
    "X = concrete_compressive_strength.data.features \n",
    "y = concrete_compressive_strength.data.targets "
   ]
  },
  {
   "cell_type": "code",
   "execution_count": 21,
   "id": "5f9af53c-7b1e-40e8-a4a7-50f07e081af5",
   "metadata": {},
   "outputs": [
    {
     "data": {
      "text/plain": [
       "0.5771752777048791"
      ]
     },
     "execution_count": 21,
     "metadata": {},
     "output_type": "execute_result"
    }
   ],
   "source": [
    "X_train , X_test , y_train , y_test = train_test_split(X,y,random_state=24,test_size=0.3)\n",
    "lr = LinearRegression()\n",
    "lr.fit(X_train,y_train)\n",
    "y_pred = lr.predict(X_test)\n",
    "r2_score(y_test,y_pred)"
   ]
  },
  {
   "cell_type": "markdown",
   "id": "deaa7f6b-c2f7-4700-9c3c-a9753a2b9c37",
   "metadata": {},
   "source": [
    "### With Standard Scaling"
   ]
  },
  {
   "cell_type": "code",
   "execution_count": 22,
   "id": "6e172f00-6d19-471e-9c13-421d15caede7",
   "metadata": {},
   "outputs": [],
   "source": [
    "scl_std = StandardScaler()"
   ]
  },
  {
   "cell_type": "code",
   "execution_count": 28,
   "id": "e9f449a2-cf52-49d3-8cd2-ce83a6780e4e",
   "metadata": {},
   "outputs": [
    {
     "data": {
      "text/plain": [
       "0.5771752777048791"
      ]
     },
     "execution_count": 28,
     "metadata": {},
     "output_type": "execute_result"
    }
   ],
   "source": [
    "pipe = Pipeline([('SCL',scl_std),('LR',lr)])\n",
    "pipe.fit(X_train,y_train)\n",
    "y_pred = pipe.predict(X_test)\n",
    "r2_score(y_test,y_pred)\n"
   ]
  },
  {
   "cell_type": "markdown",
   "id": "f95badd7-2009-434d-97de-160dc49eb464",
   "metadata": {},
   "source": [
    "### With MinMax Scaling"
   ]
  },
  {
   "cell_type": "code",
   "execution_count": 29,
   "id": "0dcb4218-eed1-43a6-8072-aaf619707eb6",
   "metadata": {},
   "outputs": [],
   "source": [
    "scl_mm = MinMaxScaler()"
   ]
  },
  {
   "cell_type": "code",
   "execution_count": 30,
   "id": "491b4483-3d61-4dff-9aaa-fbd0b336d49f",
   "metadata": {},
   "outputs": [
    {
     "data": {
      "text/plain": [
       "0.5771752777048793"
      ]
     },
     "execution_count": 30,
     "metadata": {},
     "output_type": "execute_result"
    }
   ],
   "source": [
    "pipe = Pipeline([('SCL',scl_mm),('LR',lr)])\n",
    "pipe.fit(X_train,y_train)\n",
    "y_pred = pipe.predict(X_test)\n",
    "r2_score(y_test,y_pred)"
   ]
  },
  {
   "cell_type": "code",
   "execution_count": null,
   "id": "5edb408a-c036-44c2-a9a4-d135d82c80a7",
   "metadata": {},
   "outputs": [],
   "source": []
  }
 ],
 "metadata": {
  "kernelspec": {
   "display_name": "Python 3 (ipykernel)",
   "language": "python",
   "name": "python3"
  },
  "language_info": {
   "codemirror_mode": {
    "name": "ipython",
    "version": 3
   },
   "file_extension": ".py",
   "mimetype": "text/x-python",
   "name": "python",
   "nbconvert_exporter": "python",
   "pygments_lexer": "ipython3",
   "version": "3.12.4"
  }
 },
 "nbformat": 4,
 "nbformat_minor": 5
}
