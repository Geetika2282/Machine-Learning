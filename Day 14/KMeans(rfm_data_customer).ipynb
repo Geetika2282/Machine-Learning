{
 "cells": [
  {
   "cell_type": "code",
   "execution_count": 1,
   "id": "ae9c3a00-4a43-4a9f-887c-f52889f7e5cc",
   "metadata": {},
   "outputs": [],
   "source": [
    "import pandas as pd\n",
    "import numpy as np\n",
    "import matplotlib.pyplot as plt\n",
    "from sklearn.cluster import KMeans\n",
    "from sklearn.preprocessing import StandardScaler\n",
    "from sklearn.metrics import silhouette_score"
   ]
  },
  {
   "cell_type": "code",
   "execution_count": 2,
   "id": "91416c2a-0642-4a3b-9ba9-d08d2f98c9a0",
   "metadata": {},
   "outputs": [],
   "source": [
    "customer = pd.read_csv('rfm_data_customer.csv',index_col=0)"
   ]
  },
  {
   "cell_type": "code",
   "execution_count": 5,
   "id": "206dc1b8-74b1-4214-85bd-9357e3be2266",
   "metadata": {},
   "outputs": [],
   "source": [
    "customer.drop('most_recent_visit',axis=1,inplace=True)"
   ]
  },
  {
   "cell_type": "code",
   "execution_count": 6,
   "id": "5181c015-8301-4dda-a724-5f9fc5fe7d54",
   "metadata": {},
   "outputs": [
    {
     "data": {
      "text/html": [
       "<div>\n",
       "<style scoped>\n",
       "    .dataframe tbody tr th:only-of-type {\n",
       "        vertical-align: middle;\n",
       "    }\n",
       "\n",
       "    .dataframe tbody tr th {\n",
       "        vertical-align: top;\n",
       "    }\n",
       "\n",
       "    .dataframe thead th {\n",
       "        text-align: right;\n",
       "    }\n",
       "</style>\n",
       "<table border=\"1\" class=\"dataframe\">\n",
       "  <thead>\n",
       "    <tr style=\"text-align: right;\">\n",
       "      <th></th>\n",
       "      <th>revenue</th>\n",
       "      <th>number_of_orders</th>\n",
       "      <th>recency_days</th>\n",
       "    </tr>\n",
       "    <tr>\n",
       "      <th>customer_id</th>\n",
       "      <th></th>\n",
       "      <th></th>\n",
       "      <th></th>\n",
       "    </tr>\n",
       "  </thead>\n",
       "  <tbody>\n",
       "    <tr>\n",
       "      <th>22086</th>\n",
       "      <td>777</td>\n",
       "      <td>9</td>\n",
       "      <td>232</td>\n",
       "    </tr>\n",
       "    <tr>\n",
       "      <th>2290</th>\n",
       "      <td>1555</td>\n",
       "      <td>16</td>\n",
       "      <td>115</td>\n",
       "    </tr>\n",
       "    <tr>\n",
       "      <th>26377</th>\n",
       "      <td>336</td>\n",
       "      <td>5</td>\n",
       "      <td>43</td>\n",
       "    </tr>\n",
       "    <tr>\n",
       "      <th>24650</th>\n",
       "      <td>1189</td>\n",
       "      <td>12</td>\n",
       "      <td>64</td>\n",
       "    </tr>\n",
       "    <tr>\n",
       "      <th>12883</th>\n",
       "      <td>1229</td>\n",
       "      <td>12</td>\n",
       "      <td>23</td>\n",
       "    </tr>\n",
       "  </tbody>\n",
       "</table>\n",
       "</div>"
      ],
      "text/plain": [
       "             revenue  number_of_orders  recency_days\n",
       "customer_id                                         \n",
       "22086            777                 9           232\n",
       "2290            1555                16           115\n",
       "26377            336                 5            43\n",
       "24650           1189                12            64\n",
       "12883           1229                12            23"
      ]
     },
     "execution_count": 6,
     "metadata": {},
     "output_type": "execute_result"
    }
   ],
   "source": [
    "customer.head()"
   ]
  },
  {
   "cell_type": "code",
   "execution_count": 7,
   "id": "16d5e01d-f2d0-4e57-af8d-9e06b1eab9a9",
   "metadata": {},
   "outputs": [
    {
     "data": {
      "text/plain": [
       "0.37102897041720206"
      ]
     },
     "execution_count": 7,
     "metadata": {},
     "output_type": "execute_result"
    }
   ],
   "source": [
    "scaler = StandardScaler().set_output(transform='pandas')\n",
    "customer_scaled = scaler.fit_transform(customer)\n",
    "clust_km = KMeans(n_clusters=3,random_state=24)\n",
    "clust_km.fit(customer_scaled)\n",
    "silhouette_score(customer_scaled,clust_km.labels_)"
   ]
  },
  {
   "cell_type": "code",
   "execution_count": 8,
   "id": "f133c7eb-a007-4b26-8556-8dd6b3873bf3",
   "metadata": {},
   "outputs": [
    {
     "name": "stdout",
     "output_type": "stream",
     "text": [
      "[0.3619175885782477, 0.37102897041720206, 0.3229983236688364, 0.3249751004529168, 0.288058231818753]\n",
      "Best no. of Clusters:  3\n"
     ]
    }
   ],
   "source": [
    "scores = []\n",
    "n_clust = [2,3,4,5,6]\n",
    "for i in n_clust:\n",
    "    clust = KMeans(n_clusters=i,random_state=24)\n",
    "    clust.fit(customer_scaled)\n",
    "    scores.append(silhouette_score(customer_scaled,clust.labels_))\n",
    "print(scores)\n",
    "i_max = np.argmax(scores)\n",
    "print(\"Best no. of Clusters: \",n_clust[i_max])"
   ]
  },
  {
   "cell_type": "markdown",
   "id": "76d09b42-5c49-46ad-8f92-2df9f10e7cfa",
   "metadata": {},
   "source": [
    "#### Cluster Analysis"
   ]
  },
  {
   "cell_type": "code",
   "execution_count": 9,
   "id": "27cb2501-3c77-4c7d-844b-b0d2b3075fbe",
   "metadata": {},
   "outputs": [
    {
     "data": {
      "text/plain": [
       "0.37102897041720206"
      ]
     },
     "execution_count": 9,
     "metadata": {},
     "output_type": "execute_result"
    }
   ],
   "source": [
    "clust_km = KMeans(n_clusters=3,random_state=24)\n",
    "clust_km.fit(customer_scaled)\n",
    "silhouette_score(customer_scaled,clust_km.labels_)"
   ]
  },
  {
   "cell_type": "code",
   "execution_count": 13,
   "id": "ac3c41f7-707f-4bdb-91ee-76f7d84d7262",
   "metadata": {},
   "outputs": [
    {
     "data": {
      "text/html": [
       "<div>\n",
       "<style scoped>\n",
       "    .dataframe tbody tr th:only-of-type {\n",
       "        vertical-align: middle;\n",
       "    }\n",
       "\n",
       "    .dataframe tbody tr th {\n",
       "        vertical-align: top;\n",
       "    }\n",
       "\n",
       "    .dataframe thead th {\n",
       "        text-align: right;\n",
       "    }\n",
       "</style>\n",
       "<table border=\"1\" class=\"dataframe\">\n",
       "  <thead>\n",
       "    <tr style=\"text-align: right;\">\n",
       "      <th></th>\n",
       "      <th>revenue</th>\n",
       "      <th>number_of_orders</th>\n",
       "      <th>recency_days</th>\n",
       "    </tr>\n",
       "    <tr>\n",
       "      <th>cluster</th>\n",
       "      <th></th>\n",
       "      <th></th>\n",
       "      <th></th>\n",
       "    </tr>\n",
       "  </thead>\n",
       "  <tbody>\n",
       "    <tr>\n",
       "      <th>0</th>\n",
       "      <td>1281.119459</td>\n",
       "      <td>12.909267</td>\n",
       "      <td>133.255123</td>\n",
       "    </tr>\n",
       "    <tr>\n",
       "      <th>1</th>\n",
       "      <td>749.292247</td>\n",
       "      <td>8.227773</td>\n",
       "      <td>136.139784</td>\n",
       "    </tr>\n",
       "    <tr>\n",
       "      <th>2</th>\n",
       "      <td>692.414498</td>\n",
       "      <td>7.351090</td>\n",
       "      <td>416.697185</td>\n",
       "    </tr>\n",
       "  </tbody>\n",
       "</table>\n",
       "</div>"
      ],
      "text/plain": [
       "             revenue  number_of_orders  recency_days\n",
       "cluster                                             \n",
       "0        1281.119459         12.909267    133.255123\n",
       "1         749.292247          8.227773    136.139784\n",
       "2         692.414498          7.351090    416.697185"
      ]
     },
     "execution_count": 13,
     "metadata": {},
     "output_type": "execute_result"
    }
   ],
   "source": [
    "customer_clust = customer.copy()\n",
    "customer_clust['cluster'] = clust_km.labels_\n",
    "customer_clust = customer_clust[customer_clust['cluster']!=-1]\n",
    "customer_clust.groupby('cluster').mean()"
   ]
  },
  {
   "cell_type": "code",
   "execution_count": null,
   "id": "431a2cb9-22fc-49b2-a917-5efcba0191d5",
   "metadata": {},
   "outputs": [],
   "source": []
  }
 ],
 "metadata": {
  "kernelspec": {
   "display_name": "Python 3 (ipykernel)",
   "language": "python",
   "name": "python3"
  },
  "language_info": {
   "codemirror_mode": {
    "name": "ipython",
    "version": 3
   },
   "file_extension": ".py",
   "mimetype": "text/x-python",
   "name": "python",
   "nbconvert_exporter": "python",
   "pygments_lexer": "ipython3",
   "version": "3.12.4"
  }
 },
 "nbformat": 4,
 "nbformat_minor": 5
}
