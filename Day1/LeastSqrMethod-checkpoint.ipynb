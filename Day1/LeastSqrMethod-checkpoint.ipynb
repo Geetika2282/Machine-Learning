{
 "cells": [
  {
   "cell_type": "code",
   "execution_count": 33,
   "id": "716aa588-1d9c-4a6c-8112-77fc17b783e9",
   "metadata": {},
   "outputs": [],
   "source": [
    "import numpy as np"
   ]
  },
  {
   "cell_type": "code",
   "execution_count": 34,
   "id": "1ffa8cec-9832-4698-be8b-f411d178593b",
   "metadata": {},
   "outputs": [],
   "source": [
    "x = np.array([2, 5, 7, 8, 9, 10, 23, 45])\n",
    "y = np.array([13, 15, 20, 34, 36, 56, 66, 78])"
   ]
  },
  {
   "cell_type": "code",
   "execution_count": 35,
   "id": "d8983bb9-3db1-4e7c-893d-3e557c85cd94",
   "metadata": {},
   "outputs": [],
   "source": [
    "s_x = np.sum(x)\n",
    "s_y = np.sum(y)\n",
    "s_xy = np.sum(x*y)\n",
    "s_xx = np.sum(x*x)\n",
    "n = len(x)"
   ]
  },
  {
   "cell_type": "code",
   "execution_count": 36,
   "id": "b18c3bfc-ae8d-449f-a5d9-6de2c8453ded",
   "metadata": {},
   "outputs": [
    {
     "data": {
      "text/plain": [
       "1.5031881454872025"
      ]
     },
     "execution_count": 36,
     "metadata": {},
     "output_type": "execute_result"
    }
   ],
   "source": [
    "num_b1 = s_x*s_y/n - s_xy\n",
    "den_b1 = (s_x**2)/n - s_xx\n",
    "b1 = num_b1/den_b1\n",
    "b1"
   ]
  },
  {
   "cell_type": "code",
   "execution_count": 37,
   "id": "38345b13-d2b9-41cb-8052-f945939cfe35",
   "metadata": {},
   "outputs": [
    {
     "data": {
      "text/plain": [
       "1.5031881454872025"
      ]
     },
     "execution_count": 37,
     "metadata": {},
     "output_type": "execute_result"
    }
   ],
   "source": [
    "b1 = ((s_x*s_y/n)-s_xy)/(((s_x**2)/n)-s_xx)\n",
    "b1"
   ]
  },
  {
   "cell_type": "code",
   "execution_count": 38,
   "id": "93162951-8f23-4b45-aa84-93e0eb89950c",
   "metadata": {},
   "outputs": [
    {
     "data": {
      "text/plain": [
       "19.269061517736866"
      ]
     },
     "execution_count": 38,
     "metadata": {},
     "output_type": "execute_result"
    }
   ],
   "source": [
    "b0 = (s_y - b1*s_x)/n\n",
    "b0"
   ]
  },
  {
   "cell_type": "code",
   "execution_count": 39,
   "id": "c1d147c8-1d60-4f44-b585-ab55d4a5657b",
   "metadata": {},
   "outputs": [],
   "source": [
    "from sklearn.linear_model import LinearRegression\n",
    "lr = LinearRegression()"
   ]
  },
  {
   "cell_type": "code",
   "execution_count": 41,
   "id": "95c218e9-8b8c-4c90-9202-9dcabd12d773",
   "metadata": {},
   "outputs": [
    {
     "data": {
      "text/plain": [
       "array([[ 2],\n",
       "       [ 5],\n",
       "       [ 7],\n",
       "       [ 8],\n",
       "       [ 9],\n",
       "       [10],\n",
       "       [23],\n",
       "       [45]])"
      ]
     },
     "execution_count": 41,
     "metadata": {},
     "output_type": "execute_result"
    }
   ],
   "source": [
    "x.reshape(-1,1)"
   ]
  },
  {
   "cell_type": "code",
   "execution_count": 44,
   "id": "2cf7e76c-29f2-42ef-8d6f-7fa6efae8eb8",
   "metadata": {},
   "outputs": [
    {
     "data": {
      "text/plain": [
       "(19.26906151773686, array([1.50318815]))"
      ]
     },
     "execution_count": 44,
     "metadata": {},
     "output_type": "execute_result"
    }
   ],
   "source": [
    "lr.fit(x.reshape(-1,1),y)\n",
    "lr.intercept_,lr.coef_"
   ]
  },
  {
   "cell_type": "code",
   "execution_count": null,
   "id": "6cdfef85-d5e7-49e2-a7d9-44f2aa33df9c",
   "metadata": {},
   "outputs": [],
   "source": []
  }
 ],
 "metadata": {
  "kernelspec": {
   "display_name": "Python 3 (ipykernel)",
   "language": "python",
   "name": "python3"
  },
  "language_info": {
   "codemirror_mode": {
    "name": "ipython",
    "version": 3
   },
   "file_extension": ".py",
   "mimetype": "text/x-python",
   "name": "python",
   "nbconvert_exporter": "python",
   "pygments_lexer": "ipython3",
   "version": "3.12.4"
  }
 },
 "nbformat": 4,
 "nbformat_minor": 5
}
